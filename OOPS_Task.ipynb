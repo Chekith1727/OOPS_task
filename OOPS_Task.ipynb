{
  "nbformat": 4,
  "nbformat_minor": 0,
  "metadata": {
    "colab": {
      "provenance": []
    },
    "kernelspec": {
      "name": "python3",
      "display_name": "Python 3"
    },
    "language_info": {
      "name": "python"
    }
  },
  "cells": [
    {
      "cell_type": "markdown",
      "source": [
        "INHERITANCE\n",
        "1- SINGLE INHERITANCE\n",
        "2- MULTIPLE INHERITANCE\n",
        "3- MULTI LEVEL INHERITANCE\n",
        "4- HIERARCHIAL INHERITANCE\n",
        "5- HYBRID INHERITANCE"
      ],
      "metadata": {
        "id": "wOl6qmTvFgRd"
      }
    },
    {
      "cell_type": "code",
      "execution_count": 1,
      "metadata": {
        "colab": {
          "base_uri": "https://localhost:8080/"
        },
        "id": "vw2wqO6pFWp1",
        "outputId": "60b5253f-0bc3-433e-ae86-ab35adb3abb2"
      },
      "outputs": [
        {
          "output_type": "stream",
          "name": "stdout",
          "text": [
            "animal make sounds.\n",
            "dog barks\n"
          ]
        }
      ],
      "source": [
        "# SINGLE INHERITANCE - contains single parent and single child class\n",
        "class Animal:\n",
        "  def sound(self):\n",
        "    print(\"animal make sounds.\")\n",
        "class Dog(Animal):\n",
        "  def bark(self):\n",
        "    print(\"dog barks\")\n",
        "\n",
        "dog1=Dog()\n",
        "dog1.sound()\n",
        "dog1.bark()"
      ]
    },
    {
      "cell_type": "code",
      "source": [
        "# MULTIPLE INHERITANCE - contains 2 or more parent and one child class inherits all the parent classes attributes\n",
        "\n",
        "class Engine:\n",
        "  def info(self):\n",
        "    print(\"Capacity : 2000CC\")\n",
        "\n",
        "class Wheels:\n",
        "  def wheel(self):\n",
        "    print(\"car has 4 wheels\")\n",
        "\n",
        "class Car(Engine,Wheels):\n",
        "  def car_info(self):\n",
        "    print(\"This is my car\")\n",
        "\n",
        "car1=Car()\n",
        "car1.info()\n",
        "car1.wheel()\n",
        "car1.car_info()"
      ],
      "metadata": {
        "colab": {
          "base_uri": "https://localhost:8080/"
        },
        "id": "WDqrqJvxGmHA",
        "outputId": "148b335f-98aa-41bc-b17f-ae76d8b04a20"
      },
      "execution_count": 2,
      "outputs": [
        {
          "output_type": "stream",
          "name": "stdout",
          "text": [
            "Capacity : 2000CC\n",
            "car has 4 wheels\n",
            "This is my car\n"
          ]
        }
      ]
    },
    {
      "cell_type": "code",
      "source": [
        "# MULTI LEVEL INHERITANCE  -  child class inheriting another child class\n",
        "\n",
        "class Animal:\n",
        "  def all(self):\n",
        "    print(\"parent class\")\n",
        "\n",
        "class Mammal(Animal):\n",
        "  def hair(self):\n",
        "    print(\"mammals contains hair\")\n",
        "\n",
        "class Dog(Mammal):\n",
        "  def bark(self):\n",
        "    print(\"dog barks\")\n",
        "\n",
        "class Cat(Dog):\n",
        "  def meow(self):\n",
        "    print(\"cat meows\")\n",
        "\n",
        "obj=Cat()\n",
        "obj.all()\n",
        "obj.bark()\n",
        "obj.hair()\n",
        "obj.meow()"
      ],
      "metadata": {
        "colab": {
          "base_uri": "https://localhost:8080/"
        },
        "id": "C-DB97gdHZxs",
        "outputId": "b1218995-5de9-47d8-b150-fb14002b1a35"
      },
      "execution_count": 3,
      "outputs": [
        {
          "output_type": "stream",
          "name": "stdout",
          "text": [
            "parent class\n",
            "dog barks\n",
            "mammals contains hair\n",
            "cat meows\n"
          ]
        }
      ]
    },
    {
      "cell_type": "code",
      "source": [
        "# HIERARCHIAL INHERITANCE - multiple child classes inherits the attributes of a single Parent class\n",
        "\n",
        "class Animal:\n",
        "  def sound(self):\n",
        "    print(\"parent class\")\n",
        "class Dog(Animal):\n",
        "  def child1(self):\n",
        "    print(\"dog barks\")\n",
        "class Cat(Animal):\n",
        "  def child2(self):\n",
        "    print(\"cat meows\")\n",
        "class Cow(Animal):\n",
        "  def child3(self):\n",
        "    print(\"cow moos\")\n",
        "\n",
        "obj=Cow()\n",
        "obj.sound()\n",
        "obj.child3()\n"
      ],
      "metadata": {
        "colab": {
          "base_uri": "https://localhost:8080/"
        },
        "id": "xTBWJucnIqIS",
        "outputId": "1bf3f898-5a99-4c66-c0e8-219e4be05b14"
      },
      "execution_count": 7,
      "outputs": [
        {
          "output_type": "stream",
          "name": "stdout",
          "text": [
            "parent class\n",
            "cow moos\n"
          ]
        }
      ]
    },
    {
      "cell_type": "code",
      "source": [
        "# HYBRID INHERITANCE\n",
        "\n",
        "\n",
        "class Engine:\n",
        "  def info(self):\n",
        "    print(\"Capacity : 2000CC\")\n",
        "\n",
        "class Wheels:\n",
        "  def wheel(self):\n",
        "    print(\"car has 4 wheels\")\n",
        "\n",
        "class Car(Engine,Wheels):\n",
        "  def car_info(self):\n",
        "    print(\"This is my car\")\n",
        "\n",
        "class Electric_Car(Car):\n",
        "  def battery(self):\n",
        "    print(\"capacity : 75kwh\")\n",
        "\n",
        "obj=Electric_Car()\n",
        "obj.info()\n",
        "obj.wheel()\n",
        "obj.car_info()\n",
        "obj.battery()"
      ],
      "metadata": {
        "colab": {
          "base_uri": "https://localhost:8080/"
        },
        "id": "kqasY8ryJeAr",
        "outputId": "30d2b122-17f2-45e8-e786-23855f00027a"
      },
      "execution_count": 11,
      "outputs": [
        {
          "output_type": "stream",
          "name": "stdout",
          "text": [
            "Capacity : 2000CC\n",
            "car has 4 wheels\n",
            "This is my car\n",
            "capacity : 75kwh\n"
          ]
        }
      ]
    },
    {
      "cell_type": "markdown",
      "source": [
        "POLYMORPHISM"
      ],
      "metadata": {
        "id": "FtaZuCBrZ-JX"
      }
    },
    {
      "cell_type": "code",
      "source": [
        "# METHOD OVERLOADING - class containing same method name but different parameters\n",
        "\n",
        "class Person:\n",
        "  def add(self,a,b):\n",
        "    return a+b\n",
        "\n",
        "obj=Person()\n",
        "obj.add(4,7)"
      ],
      "metadata": {
        "colab": {
          "base_uri": "https://localhost:8080/"
        },
        "id": "9oIUkbPEKO2s",
        "outputId": "1da2dade-fb30-4a89-ef61-06e9460f0b78"
      },
      "execution_count": 22,
      "outputs": [
        {
          "output_type": "execute_result",
          "data": {
            "text/plain": [
              "11"
            ]
          },
          "metadata": {},
          "execution_count": 22
        }
      ]
    },
    {
      "cell_type": "code",
      "source": [
        "#METHOD OVERRIDING - Same method name in parent and child classes\n",
        "\n",
        "class Parent:\n",
        "    def show(self):\n",
        "        print(\"Parent class\")\n",
        "\n",
        "class Child(Parent):\n",
        "    def show(self):\n",
        "        print(\"Child class\")\n",
        "\n",
        "\n",
        "parent_obj = Parent()\n",
        "child_obj = Child()\n",
        "\n",
        "parent_obj.show()\n",
        "child_obj.show()\n"
      ],
      "metadata": {
        "colab": {
          "base_uri": "https://localhost:8080/"
        },
        "id": "Zoe17liYMB7P",
        "outputId": "48f917e8-845a-43e5-84fc-e3b153e69c9e"
      },
      "execution_count": 23,
      "outputs": [
        {
          "output_type": "stream",
          "name": "stdout",
          "text": [
            "Parent class\n",
            "Child class\n"
          ]
        }
      ]
    },
    {
      "cell_type": "markdown",
      "source": [
        "ENCAPSULATION WITH ALL MODIFIERS"
      ],
      "metadata": {
        "id": "TRWjHGx5Xh3M"
      }
    },
    {
      "cell_type": "code",
      "source": [
        "class Animal:\n",
        "  def __init__(self,name,species,sound):\n",
        "    self.name=name                # Public\n",
        "    self._species=species         # Protected\n",
        "    self.__sound=sound            # Private\n",
        "\n",
        "  def get_sound(self):           # getter method for private modifier\n",
        "    return self.__sound\n",
        "\n",
        "  def set_sound(self, new_sound):     # setter method for private modifier\n",
        "    self.__sound=new_sound\n",
        "\n",
        "\n",
        "obj=Animal('Buddy','canine','barks')\n",
        "print(obj.name)\n",
        "print(obj._species)\n",
        "print(obj.get_sound())"
      ],
      "metadata": {
        "colab": {
          "base_uri": "https://localhost:8080/"
        },
        "id": "QRbN5fk9OkeS",
        "outputId": "654a8527-9a47-4642-dbb2-8de8d7cb1508"
      },
      "execution_count": 27,
      "outputs": [
        {
          "output_type": "stream",
          "name": "stdout",
          "text": [
            "Buddy\n",
            "canine\n",
            "barks\n"
          ]
        }
      ]
    },
    {
      "cell_type": "code",
      "source": [],
      "metadata": {
        "id": "bYYbZNNsZQxf"
      },
      "execution_count": null,
      "outputs": []
    }
  ]
}